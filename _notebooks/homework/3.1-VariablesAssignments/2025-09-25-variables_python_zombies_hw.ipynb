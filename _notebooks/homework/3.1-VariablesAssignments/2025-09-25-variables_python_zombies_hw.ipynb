{
 "cells": [
  {
   "cell_type": "markdown",
   "id": "6d62ad69",
   "metadata": {
    "vscode": {
     "languageId": "raw"
    }
   },
   "source": [
    "---\n",
    "layout: post\n",
    "title: Variables & Assignments\n",
    "description: This page will provide homework for the variables and assigmnets lesson.\n",
    "permalink: /python/variables/zombies/hw\n",
    "breadcrumb: True\n",
    "Author: Ethan Patel, Tanay Paranjpe, Neil Manjrekar\n",
    "---"
   ]
  },
  {
   "cell_type": "markdown",
   "id": "2b9da6aa",
   "metadata": {},
   "source": [
    "## Variables & Assignment Homework\n",
    "---\n",
    "Description:\n",
    "- In this homework hack, you will practice creating and using variables. You’ll define variables to store your name and age, reassign values, and answer interactive questions to test your understanding. This activity will help you master the basics of variables and how they work in programming."
   ]
  },
  {
   "cell_type": "markdown",
   "id": "352d458b",
   "metadata": {
    "vscode": {
     "languageId": "plaintext"
    }
   },
   "source": [
    "# 🏠 Variables Quest Homework\n",
    "\n",
    "**Objective:** Practice creating, manipulating, and combining strings in Python.\n",
    "\n",
    "---\n",
    "\n",
    "## Instructions\n",
    "\n",
    "Complete each challenge by **filling in the missing code**. Use the examples as a guide, but make sure to write your own values or logic.\n"
   ]
  },
  {
   "cell_type": "markdown",
   "id": "39715e07",
   "metadata": {
    "vscode": {
     "languageId": "raw"
    }
   },
   "source": [
    "## Challenge 1: Creating a Life Profile with Variables"
   ]
  },
  {
   "cell_type": "code",
   "execution_count": 3,
   "id": "35609373",
   "metadata": {},
   "outputs": [
    {
     "name": "stdout",
     "output_type": "stream",
     "text": [
      "Name: Meryl\n",
      "Age: 15\n",
      "City: HZ\n",
      "Favorite color: Blue\n",
      "Favorite food: RJM\n",
      "Favorite movie: Movie\n",
      "Favorite song: JJ\n",
      "Student? True\n",
      "Has pet? no\n",
      "Online? True\n",
      "Likes music? True\n"
     ]
    }
   ],
   "source": [
    "# Part 1\n",
    "## Personal info\n",
    "my_name = \"Meryl\"       # Fill in your name\n",
    "my_age = 15             # Fill in your age\n",
    "my_city = \"San Diego\"   # Fill in the city where you live\n",
    "\n",
    "# Part 2\n",
    "## Preferences\n",
    "favorite_color = \"Blue\"     # Your favorite color\n",
    "favorite_food = \"Ramen\"     # Your favorite food\n",
    "favorite_movie = \"Movie\"    # Your favorite movie\n",
    "favorite_song = \"JJ\"        # Your favorite song\n",
    "\n",
    "# Part 3\n",
    "# Reassign some variables\n",
    "favorite_food = \"RJM\"\n",
    "my_city = \"HZ\"\n",
    "has_pet = \"no\"\n",
    "\n",
    "# Part 4 (missing variables, I added defaults)\n",
    "is_student = True\n",
    "is_online = True\n",
    "likes_music = True\n",
    "\n",
    "# Part 5: Print Your Life Profile\n",
    "# Print all your variables so your \"Life Profile\" is displayed:\n",
    "\n",
    "print(\"Name:\", my_name)\n",
    "print(\"Age:\", my_age)\n",
    "print(\"City:\", my_city)\n",
    "print(\"Favorite color:\", favorite_color)\n",
    "print(\"Favorite food:\", favorite_food)\n",
    "print(\"Favorite movie:\", favorite_movie)\n",
    "print(\"Favorite song:\", favorite_song)\n",
    "print(\"Student?\", is_student)\n",
    "print(\"Has pet?\", has_pet)\n",
    "print(\"Online?\", is_online)\n",
    "print(\"Likes music?\", likes_music)\n"
   ]
  },
  {
   "cell_type": "markdown",
   "id": "748cd3e2",
   "metadata": {},
   "source": [
    "# Task 2 "
   ]
  },
  {
   "cell_type": "markdown",
   "id": "a775e8cf",
   "metadata": {
    "vscode": {
     "languageId": "html"
    }
   },
   "source": [
    "## Creative Challenge \n",
    "\n",
    "Your task: Create a “story” or “profile” using **ONLY variables and assignments**.  \n",
    "\n",
    "\n",
    "### Instructions:\n",
    "\n",
    "1. **Create at least 8 variables** to describe a character or yourself.  \n",
    "   Examples:  \n",
    "   `name`, `age`, `favorite_food`, `hobby`, `number_of_pets`, `mood`, `favorite_color`, `dream_job`\n",
    "\n",
    "2. **Assign initial values** to all variables.\n",
    "\n",
    "3. **Reassign at least 4 of the variables** to new values to simulate changes over time or “events” in the story.\n",
    "\n",
    "4. Use **print statements** to write a story or profile that is **at least 5 sentences long**.  \n",
    "   Each sentence should include at least one variable.  \n",
    "   Example:  \n",
    "   > \"Tanay ('age' 17) loves pizza and plays tennis ('hobby') every weekend. Today, Tanay is happy because he ate his ('favoirite_food').\"\n",
    "\n",
    "5. Optional: Add **extra variables** to make your story longer and more creative.  \n",
    "   You can also create “day 2”, “day 3”, etc., by reassigning variables and printing new sentences.\n",
    "\n",
    "### Goal:\n",
    "\n",
    "- Show creativity while practicing:  \n",
    "  - Variable creation  \n",
    "  - Variable reassignment  \n",
    "  - Using variables in print statements\n",
    "  - Experiment with assigment and reassigment to update variables \n"
   ]
  },
  {
   "cell_type": "code",
   "execution_count": 2,
   "id": "0c397b2b",
   "metadata": {},
   "outputs": [
    {
     "name": "stdout",
     "output_type": "stream",
     "text": [
      "Kailyn is 16 years old and loves sushi.\n",
      "Kailyn spends most weekends painting.\n",
      "She has 2 pets and feels excited every morning.\n",
      "Her favorite color is blue because it reminds her of the ocean.\n",
      "In the future, Kailyn wants to be a marine biologist.\n",
      "\n",
      "A year later...\n",
      "Kailyn is now 16 years old.\n",
      "Her favorite food changed to ramen and she started surfing.\n",
      "She has 3 pets now and feels tired after surfing early in the morning.\n",
      "Even though things changed, Kailyn still dreams of becoming a marine biologist.\n"
     ]
    }
   ],
   "source": [
    "# Step 1: Create variables\n",
    "name = \"Kailyn\"\n",
    "age = 16\n",
    "favorite_food = \"sushi\"\n",
    "hobby = \"painting\"\n",
    "number_of_pets = 2\n",
    "mood = \"excited\"\n",
    "favorite_color = \"blue\"\n",
    "dream_job = \"marine biologist\"\n",
    "\n",
    "# Step 2: Initial story\n",
    "print(name, \"is\", age, \"years old and loves\", favorite_food + \".\")\n",
    "print(name, \"spends most weekends\", hobby + \".\")\n",
    "print(\"She has\", number_of_pets, \"pets and feels\", mood, \"every morning.\")\n",
    "print(\"Her favorite color is\", favorite_color, \"because it reminds her of the ocean.\")\n",
    "print(\"In the future,\", name, \"wants to be a\", dream_job + \".\")\n",
    "\n",
    "# Step 3: Reassign variables\n",
    "age = 16\n",
    "favorite_food = \"ramen\"\n",
    "hobby = \"surfing\"\n",
    "mood = \"tired\"\n",
    "number_of_pets = 3\n",
    "\n",
    "# Step 4: Updated story\n",
    "print(\"\\nA year later...\")\n",
    "print(name, \"is now\", age, \"years old.\")\n",
    "print(\"Her favorite food changed to\", favorite_food, \"and she started\", hobby + \".\")\n",
    "print(\"She has\", number_of_pets, \"pets now and feels\", mood, \"after surfing early in the morning.\")\n",
    "print(\"Even though things changed,\", name, \"still dreams of becoming a\", dream_job + \".\")\n"
   ]
  }
 ],
 "metadata": {
  "kernelspec": {
   "display_name": "venv",
   "language": "python",
   "name": "python3"
  },
  "language_info": {
   "codemirror_mode": {
    "name": "ipython",
    "version": 3
   },
   "file_extension": ".py",
   "mimetype": "text/x-python",
   "name": "python",
   "nbconvert_exporter": "python",
   "pygments_lexer": "ipython3",
   "version": "3.13.7"
  }
 },
 "nbformat": 4,
 "nbformat_minor": 5
}
